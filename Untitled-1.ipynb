{
 "cells": [
  {
   "cell_type": "code",
   "execution_count": 2,
   "metadata": {},
   "outputs": [],
   "source": [
    "from   matplotlib import pyplot as plt\n",
    "import numpy as np\n",
    "import random"
   ]
  },
  {
   "cell_type": "code",
   "execution_count": 27,
   "metadata": {},
   "outputs": [
    {
     "data": {
      "text/plain": [
       "Field(layout = ndarray, copper = 3, silver = 0, gold = 0, reward_locations = None)"
      ]
     },
     "execution_count": 27,
     "metadata": {},
     "output_type": "execute_result"
    }
   ],
   "source": [
    "class Base():\n",
    "    \n",
    "    def __init__(self, params, exceptions = []):\n",
    "        exceptions   += ['self', '__class__']\n",
    "        self.__params = []\n",
    "        for key, value in params.items():\n",
    "            if key not in exceptions:\n",
    "                setattr(self, key, value)\n",
    "                self.__params.append(key)\n",
    "            \n",
    "        self.__name__ = self.__class__.__name__\n",
    "\n",
    "    def __repr__(self):\n",
    "        name   = self.__name__\n",
    "        params = ', '.join([f'{key} = {value if isinstance(value, (bool, int, float)) or value is None else type(value).__name__}' for key, value in self.__dict__.items() if key in self.__params])\n",
    "        return f'{name}({params})'\n",
    "\n",
    "class Field(Base):\n",
    "\n",
    "    def __init__(self, layout, copper = 0, silver = 0, gold = 0, reward_locations = None):\n",
    "        super().__init__(locals())\n",
    "        self.copper_loc = []\n",
    "        self.silver_loc = []\n",
    "        self.gold_loc   = []\n",
    "        self._layout    = self.layout.copy()\n",
    "\n",
    "        if self.reward_locations is None:\n",
    "            self._valid = set(zip(*np.where(self.layout == 0)))\n",
    "        else:\n",
    "            self._valid = set(self.reward_locations)\n",
    "\n",
    "    def reset(self):\n",
    "        for loc in [self.copper_loc, self.silver_loc, self.gold_loc]:\n",
    "            loc.clear()\n",
    "\n",
    "        self.layout = self._layout.copy()\n",
    "        self.valid  = list(self._valid)\n",
    "        \n",
    "        for reward, number, loc in zip([1, 5, 10], [self.copper, self.silver, self.gold], [self.copper_loc, self.silver_loc, self.gold_loc]):\n",
    "            for i in range(number):\n",
    "                idx    = random.choice(self.valid)\n",
    "                self.valid.remove(idx)\n",
    "                loc.append(idx)\n",
    "                self.layout[idx] = reward\n",
    "        \n",
    "        return self.layout\n",
    "\n",
    "class Rover(Base):\n",
    "\n",
    "    def __init__(self, scan, load, loc):\n",
    "        super().__init__(locals())\n",
    "\n",
    "    def move(self, direction):\n",
    "        loc = self.loc + direction\n",
    "        \n",
    "\n",
    "class Scanner(Rover):\n",
    "\n",
    "    def __init__(self, )\n",
    "layout = np.array([[1, 1, 1, 1, 1, 1, 1],\n",
    "                   [1, 0, 0, 0, 0, 0, 1],\n",
    "                   [1, 0, 0, 0, 0, 0, 1],\n",
    "                   [1, 0, 0, 0, 0, 0, 1],\n",
    "                   [1, 0, 0, 0, 0, 0, 1],\n",
    "                   [1, 0, 0, 0, 0, 0, 1],\n",
    "                   [1, 1, 1, 1, 1, 1, 1]]) * -1\n",
    "\n",
    "field = Field(layout, 3)\n",
    "\n",
    "field"
   ]
  },
  {
   "cell_type": "code",
   "execution_count": 30,
   "metadata": {},
   "outputs": [
    {
     "data": {
      "text/plain": [
       "array([[-1, -1, -1, -1, -1, -1, -1],\n",
       "       [-1,  0,  0,  0,  0,  1, -1],\n",
       "       [-1,  0,  0,  0,  0,  1, -1],\n",
       "       [-1,  0,  0,  0,  0,  1, -1],\n",
       "       [-1,  0,  0,  0,  0,  0, -1],\n",
       "       [-1,  0,  0,  0,  0,  0, -1],\n",
       "       [-1, -1, -1, -1, -1, -1, -1]])"
      ]
     },
     "execution_count": 30,
     "metadata": {},
     "output_type": "execute_result"
    }
   ],
   "source": [
    "field.reset()"
   ]
  },
  {
   "cell_type": "code",
   "execution_count": null,
   "metadata": {},
   "outputs": [],
   "source": []
  }
 ],
 "metadata": {
  "interpreter": {
   "hash": "6ce19b4ec3b7c15bcdf2bd08a6f5f5f9e386325c6cad4bd8359780d1674f36a2"
  },
  "kernelspec": {
   "display_name": "Python 3.10.4 ('env': venv)",
   "language": "python",
   "name": "python3"
  },
  "language_info": {
   "codemirror_mode": {
    "name": "ipython",
    "version": 3
   },
   "file_extension": ".py",
   "mimetype": "text/x-python",
   "name": "python",
   "nbconvert_exporter": "python",
   "pygments_lexer": "ipython3",
   "version": "3.10.4"
  },
  "orig_nbformat": 4
 },
 "nbformat": 4,
 "nbformat_minor": 2
}
