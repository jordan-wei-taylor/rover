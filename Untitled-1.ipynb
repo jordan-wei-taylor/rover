{
 "cells": [
  {
   "cell_type": "code",
   "execution_count": 1,
   "metadata": {},
   "outputs": [],
   "source": [
    "from   matplotlib import pyplot as plt\n",
    "import numpy as np\n",
    "import random"
   ]
  },
  {
   "cell_type": "code",
   "execution_count": 70,
   "metadata": {},
   "outputs": [],
   "source": [
    "class Generic():\n",
    "    \n",
    "    def __init__(self, params, exceptions = []):\n",
    "        exceptions   += ['self', '__class__']\n",
    "        self.__params = []\n",
    "        for key, value in params.items():\n",
    "            if key not in exceptions:\n",
    "                setattr(self, key, value)\n",
    "                self.__params.append(key)\n",
    "            \n",
    "        self.__name__ = self.__class__.__name__\n",
    "\n",
    "    def __repr__(self):\n",
    "        name   = self.__name__\n",
    "        params = ', '.join([f'{key} = {value if isinstance(value, (bool, int, float)) or value is None else type(value).__name__}' for key, value in self.__dict__.items() if key in self.__params])\n",
    "        return f'{name}({params})'\n",
    "\n",
    "class Game(Generic):\n",
    "\n",
    "    def __init__(self, field, base, rovers):\n",
    "        super().__init__()\n",
    "\n",
    "class Base(Generic):\n",
    "\n",
    "    def __init__(self):\n",
    "        super().__init__(locals())\n",
    "        self.mark = 'B'\n",
    "\n",
    "class Move(Generic):\n",
    "\n",
    "    def __init__(self, valid):\n",
    "        super().__init__(locals())\n",
    "\n",
    "    def __call__(self, state, action):\n",
    "        new = state + action\n",
    "        if new in self.valid:\n",
    "            return new\n",
    "        return state\n",
    "\n",
    "class Layout(Generic):\n",
    "\n",
    "    def __init__(self, layout):\n",
    "        Generic.__init__(self, locals())\n",
    "\n",
    "\n",
    "class Overlay(Generic):\n",
    "\n",
    "    def __init__(self, copper = (0, 0), silver = (0, 0), gold = (0, 0), reward_locations = None):\n",
    "        Generic.__init__(self, locals())\n",
    "        self.copper_loc = {}\n",
    "        self.silver_loc = {}\n",
    "        self.gold_loc   = {}\n",
    "\n",
    "        if self.reward_locations is None:\n",
    "            self.valid = set(zip(*np.where(self.layout == 0)))\n",
    "        else:\n",
    "            self.valid = set(self.reward_locations)\n",
    "\n",
    "    def reset_layout(self):\n",
    "        self._layout = np.zeros_like(self.layout, dtype = str)\n",
    "        self._layout[np.where(self.layout == 0)] = ' '\n",
    "        self._layout[np.where(self.layout == 1)] = 'W'\n",
    "\n",
    "    def reset(self):\n",
    "        for loc in [self.copper_loc, self.silver_loc, self.gold_loc]:\n",
    "            loc.clear()\n",
    "\n",
    "        self.reset_layout()\n",
    "\n",
    "        self._valid = list(self.valid)\n",
    "        \n",
    "        for reward, (number, mean), loc in zip(['C', 'S', 'G'], [self.copper, self.silver, self.gold], [self.copper_loc, self.silver_loc, self.gold_loc]):\n",
    "            for i in range(number):\n",
    "                idx    = random.choice(self._valid)\n",
    "                self._valid.remove(idx)\n",
    "                loc[tuple(idx)] = np.random.poisson(mean)\n",
    "                self._layout[idx] = reward\n",
    "        \n",
    "        return self._layout\n",
    "\n",
    "class Field(Layout, Overlay, Generic):\n",
    "\n",
    "    def __init__(self, layout, copper = (0, 0), silver = (0, 0), gold = (0, 0), reward_locations = None):\n",
    "        Layout.__init__(self, layout)\n",
    "        Overlay.__init__(self, copper, silver, gold, reward_locations)\n",
    "        Generic.__init__(self, locals())\n",
    "\n",
    "    def __getitem__(self, index):\n",
    "        return self._layout[index]\n",
    "\n",
    "class Rover(Generic):\n",
    "\n",
    "    def __init__(self, field, scan, load_copper, load_silver, load_gold, loc):\n",
    "        super().__init__(locals())\n",
    "        self._move = Move(field._valid)\n",
    "        self._load = {'C' : load_copper, 'S' : load_silver, 'G' : load_gold}\n",
    "\n",
    "    def move(self, direction):\n",
    "        self.loc = self._move(self.loc, direction)\n",
    "        return self.loc\n",
    "\n",
    "    def load(self):\n",
    "        reward = self.field[tuple(self.loc)]\n",
    "        if reward == 1 and self._load['C'] > 1:\n",
    "            pass\n",
    "        \n",
    "\n",
    "# class Scanner(Rover):\n",
    "\n",
    "#     def __init__(self, )\n",
    "\n",
    "\n",
    "layout = np.array([[1, 1, 1, 1, 1, 1, 1],\n",
    "                   [1, 0, 0, 0, 0, 0, 1],\n",
    "                   [1, 0, 0, 0, 0, 0, 1],\n",
    "                   [1, 0, 0, 0, 0, 0, 1],\n",
    "                   [1, 0, 0, 0, 0, 0, 1],\n",
    "                   [1, 0, 0, 0, 0, 0, 1],\n",
    "                   [1, 1, 1, 1, 1, 1, 1]])\n",
    "\n",
    "# field = Field(layout, 3)\n",
    "\n",
    "# field"
   ]
  },
  {
   "cell_type": "code",
   "execution_count": 71,
   "metadata": {},
   "outputs": [
    {
     "data": {
      "text/plain": [
       "array([['W', 'W', 'W', 'W', 'W', 'W', 'W'],\n",
       "       ['W', ' ', 'C', ' ', ' ', ' ', 'W'],\n",
       "       ['W', ' ', ' ', 'C', ' ', ' ', 'W'],\n",
       "       ['W', ' ', ' ', ' ', ' ', ' ', 'W'],\n",
       "       ['W', ' ', 'C', ' ', ' ', ' ', 'W'],\n",
       "       ['W', ' ', ' ', ' ', ' ', 'C', 'W'],\n",
       "       ['W', 'W', 'W', 'W', 'W', 'W', 'W']], dtype='<U1')"
      ]
     },
     "execution_count": 71,
     "metadata": {},
     "output_type": "execute_result"
    }
   ],
   "source": [
    "field = Field(layout, copper = (4, 5))\n",
    "field.reset()"
   ]
  },
  {
   "cell_type": "code",
   "execution_count": 76,
   "metadata": {},
   "outputs": [
    {
     "data": {
      "text/plain": [
       "Field(layout = ndarray, copper = tuple, silver = tuple, gold = tuple, reward_locations = None)"
      ]
     },
     "execution_count": 76,
     "metadata": {},
     "output_type": "execute_result"
    }
   ],
   "source": [
    "field"
   ]
  },
  {
   "cell_type": "code",
   "execution_count": 44,
   "metadata": {},
   "outputs": [
    {
     "data": {
      "text/plain": [
       "array([['', '', '', '', '', '', ''],\n",
       "       ['', '', '', '', '', '', ''],\n",
       "       ['', '', '', '', '', '', ''],\n",
       "       ['', '', '', '', '', '', ''],\n",
       "       ['', '', '', '', '', '', ''],\n",
       "       ['', '', '', '', '', '', ''],\n",
       "       ['', '', '', '', '', '', '']], dtype='<U1')"
      ]
     },
     "execution_count": 44,
     "metadata": {},
     "output_type": "execute_result"
    }
   ],
   "source": [
    "field._layout"
   ]
  },
  {
   "cell_type": "code",
   "execution_count": 48,
   "metadata": {},
   "outputs": [],
   "source": [
    "l = np.zeros_like(field.layout, dtype = str)"
   ]
  },
  {
   "cell_type": "code",
   "execution_count": 51,
   "metadata": {},
   "outputs": [],
   "source": [
    "l[np.where(field.layout == 0)] = ' '\n",
    "l[np.where(field.layout == 1)] = 'W'\n"
   ]
  },
  {
   "cell_type": "code",
   "execution_count": 52,
   "metadata": {},
   "outputs": [
    {
     "data": {
      "text/plain": [
       "array([['W', 'W', 'W', 'W', 'W', 'W', 'W'],\n",
       "       ['W', ' ', ' ', ' ', ' ', ' ', 'W'],\n",
       "       ['W', ' ', ' ', ' ', ' ', ' ', 'W'],\n",
       "       ['W', ' ', ' ', ' ', ' ', ' ', 'W'],\n",
       "       ['W', ' ', ' ', ' ', ' ', ' ', 'W'],\n",
       "       ['W', ' ', ' ', ' ', ' ', ' ', 'W'],\n",
       "       ['W', 'W', 'W', 'W', 'W', 'W', 'W']], dtype='<U1')"
      ]
     },
     "execution_count": 52,
     "metadata": {},
     "output_type": "execute_result"
    }
   ],
   "source": [
    "l"
   ]
  }
 ],
 "metadata": {
  "interpreter": {
   "hash": "6ce19b4ec3b7c15bcdf2bd08a6f5f5f9e386325c6cad4bd8359780d1674f36a2"
  },
  "kernelspec": {
   "display_name": "Python 3.10.4 ('env': venv)",
   "language": "python",
   "name": "python3"
  },
  "language_info": {
   "codemirror_mode": {
    "name": "ipython",
    "version": 3
   },
   "file_extension": ".py",
   "mimetype": "text/x-python",
   "name": "python",
   "nbconvert_exporter": "python",
   "pygments_lexer": "ipython3",
   "version": "3.10.4"
  },
  "orig_nbformat": 4
 },
 "nbformat": 4,
 "nbformat_minor": 2
}
